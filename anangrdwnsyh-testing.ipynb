{
 "cells": [
  {
   "cell_type": "code",
   "execution_count": 162,
   "metadata": {},
   "outputs": [],
   "source": [
    "# Cell 1: Import library yang diperlukan\n",
    "import base64\n",
    "import json\n",
    "import random\n",
    "import pandas as pd\n",
    "import requests\n",
    "import tensorflow as tf"
   ]
  },
  {
   "cell_type": "code",
   "execution_count": 163,
   "metadata": {},
   "outputs": [],
   "source": [
    "# Membaca data dari file CSV\n",
    "data_csv = pd.read_csv(r\"C:\\Users\\ANANG\\MLOps2\\Submission_2\\data\\heart.csv\")"
   ]
  },
  {
   "cell_type": "code",
   "execution_count": 164,
   "metadata": {},
   "outputs": [
    {
     "data": {
      "text/plain": [
       "{'Age': 54,\n",
       " 'Sex': 'M',\n",
       " 'ChestPainType': 'ASY',\n",
       " 'RestingBP': 136,\n",
       " 'Cholesterol': 220,\n",
       " 'FastingBS': 0,\n",
       " 'RestingECG': 'Normal',\n",
       " 'MaxHR': 140,\n",
       " 'ExerciseAngina': 'Y',\n",
       " 'Oldpeak': 3.0,\n",
       " 'ST_Slope': 'Flat',\n",
       " 'HeartDisease': 1}"
      ]
     },
     "execution_count": 164,
     "metadata": {},
     "output_type": "execute_result"
    }
   ],
   "source": [
    "# Cell 2: Memilih data acak untuk prediksi\n",
    "columns = data_csv.columns.values\n",
    "rand = random.randint(0, len(data_csv) - 1)\n",
    "\n",
    "# Mengambil fitur\n",
    "features = data_csv.values[rand]\n",
    "\n",
    "# Membuat dictionary input\n",
    "inputs = {key: value for key, value in zip(columns, features)}\n",
    "inputs"
   ]
  },
  {
   "cell_type": "code",
   "execution_count": 165,
   "metadata": {},
   "outputs": [],
   "source": [
    "# Cell 3: Mendefinisikan fungsi-fungsi helper untuk membuat TFRecord\n",
    "def string_feature(value):\n",
    "    return tf.train.Feature(\n",
    "        bytes_list=tf.train.BytesList(value=[bytes(value, \"utf-8\")]),\n",
    "    )\n",
    "\n",
    "def float_feature(value):\n",
    "    return tf.train.Feature(\n",
    "        float_list=tf.train.FloatList(value=[value]),\n",
    "    )\n",
    "\n",
    "def int_feature(value):\n",
    "    return tf.train.Feature(\n",
    "        int64_list=tf.train.Int64List(value=[value]),\n",
    "    )"
   ]
  },
  {
   "cell_type": "code",
   "execution_count": 166,
   "metadata": {},
   "outputs": [],
   "source": [
    "# Cell 4: Fungsi untuk menyiapkan JSON request\n",
    "def prepare_json(inputs: dict):\n",
    "    feature_spec = dict()\n",
    "\n",
    "    for keys, values in inputs.items():\n",
    "        if isinstance(values, str):\n",
    "            feature_spec[keys] = string_feature(values)\n",
    "        elif isinstance(values, float):\n",
    "            feature_spec[keys] = float_feature(values)\n",
    "        else:\n",
    "            feature_spec[keys] = int_feature(values)\n",
    "\n",
    "    example = tf.train.Example(\n",
    "        features=tf.train.Features(feature=feature_spec)\n",
    "    ).SerializeToString()\n",
    "\n",
    "    result = [{\"examples\": {\"b64\": base64.b64encode(example).decode()}}]\n",
    "\n",
    "    return json.dumps(\n",
    "        {\n",
    "            \"signature_name\": \"serving_default\",\n",
    "            \"instances\": result,\n",
    "        }\n",
    "    )"
   ]
  },
  {
   "cell_type": "code",
   "execution_count": 167,
   "metadata": {},
   "outputs": [],
   "source": [
    "# Cell 5: Fungsi untuk melakukan prediksi\n",
    "def make_predictions(inputs):\n",
    "    json_data = prepare_json(inputs)\n",
    "\n",
    "    endpoint = \"https://mlops-production-6fea.up.railway.app/v1/models/heart-disease-model:predict\"\n",
    "    response = requests.post(endpoint, data=json_data, headers={\"Content-Type\": \"application/json\"})\n",
    "    prediction = response.json()[\"predictions\"][0][0]\n",
    "\n",
    "    if prediction < 0.5:\n",
    "        return \"Tidak Mengalami Penyakit Jantung\"\n",
    "    else:\n",
    "        return \"Mengalami Penyakit Jantung\""
   ]
  },
  {
   "cell_type": "code",
   "execution_count": 168,
   "metadata": {},
   "outputs": [
    {
     "name": "stdout",
     "output_type": "stream",
     "text": [
      "Hasil Prediksi: Mengalami Penyakit Jantung\n",
      "Fitur Input: {'Age': 54, 'Sex': 'M', 'ChestPainType': 'ASY', 'RestingBP': 136, 'Cholesterol': 220, 'FastingBS': 0, 'RestingECG': 'Normal', 'MaxHR': 140, 'ExerciseAngina': 'Y', 'Oldpeak': 3.0, 'ST_Slope': 'Flat', 'HeartDisease': 1}\n"
     ]
    }
   ],
   "source": [
    "# Cell 6: Melakukan prediksi dan menampilkan hasil\n",
    "hasil_prediksi = make_predictions(inputs)\n",
    "print(f'Hasil Prediksi: {hasil_prediksi}')\n",
    "print('Fitur Input:', inputs)"
   ]
  }
 ],
 "metadata": {
  "language_info": {
   "name": "python"
  }
 },
 "nbformat": 4,
 "nbformat_minor": 2
}
